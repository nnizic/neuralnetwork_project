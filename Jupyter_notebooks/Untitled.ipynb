{
 "cells": [
  {
   "cell_type": "markdown",
   "id": "e90e43fc-6baf-4bf5-b252-0f139c98fac9",
   "metadata": {},
   "source": [
    "<h1>CNN modeli za prepoznavanje šalica</h1>\n",
    "<hr/>\n",
    "<h2>Model Golf</h2>\n",
    "\n",
    "<p> Set slika je 700/100, Dropot-a i Data Augmentation i regularizacija</p>"
   ]
  },
  {
   "cell_type": "code",
   "execution_count": null,
   "id": "c31e93c7-62f5-4aec-961c-990e64187bc2",
   "metadata": {},
   "outputs": [],
   "source": [
    "import tensorflow as tf\n",
    "from tensorflow.keras.models import Sequential\n",
    "from tensorflow.keras.regularizers import l2\n",
    "from tensorflow.keras.layers import Conv2D, MaxPooling2D, Flatten, Dense\n",
    "from tensorflow.keras.preprocessing.image import ImageDataGenerator\n",
    "from tensorflow.keras.layers import Dropout\n",
    "\n",
    "import matplotlib.pyplot as plt\n",
    "import numpy as np"
   ]
  },
  {
   "cell_type": "markdown",
   "id": "97bc676f-ca4a-4576-a3b5-414c7da53ae6",
   "metadata": {},
   "source": [
    "<p>Postavljanje direktorija sa trening i validacijskim slikama:</p>"
   ]
  },
  {
   "cell_type": "code",
   "execution_count": null,
   "id": "4c15b428-1501-4547-af05-f68634512115",
   "metadata": {},
   "outputs": [],
   "source": [
    "# Postavi direktorije slika\n",
    "train_dir = \"../../Projekt_slike_128/Trening\"\n",
    "test_dir = \"../../Projekt_slike_128/Validacija\""
   ]
  },
  {
   "cell_type": "markdown",
   "id": "482ac9e3-4048-453f-8c60-acef6a12ce53",
   "metadata": {},
   "source": [
    "<h3> Funkcija za određivanje broja epoha, veličinu batcheva i generiranje podataka</h3>"
   ]
  },
  {
   "cell_type": "code",
   "execution_count": null,
   "id": "0163478b-d21e-4ca3-b40f-e152b7808527",
   "metadata": {},
   "outputs": [],
   "source": [
    "def generate_epochs_batchs_data():\n",
    "    \"\"\" određivanje i priprema podataka \"\"\"\n",
    "    # Odredi broj epoha i veličinu batcheva\n",
    "    num_of_epochs = input(\"Number of epochs:\")\n",
    "    num_of_epochs = int(num_of_epochs)\n",
    "    size_of_batch = input(\"Batch size:\")\n",
    "    size_of_batch = int(size_of_batch)\n",
    "    # Generator podataka sa augmentacijom za trening\n",
    "    train_datagen = ImageDataGenerator(\n",
    "        rescale=1.0 / 255,\n",
    "        rotation_range=40,\n",
    "        width_shift_range=0.2,\n",
    "        height_shift_range=0.2,\n",
    "        shear_range=0.2,\n",
    "        zoom_range=0.2,\n",
    "        horizontal_flip=True,\n",
    "        fill_mode=\"nearest\",\n",
    "    )\n",
    "    test_datagen = ImageDataGenerator(rescale=1.0 / 255)\n",
    "\n",
    "    train_generator = train_datagen.flow_from_directory(\n",
    "        train_dir, target_size=(128, 128), batch_size=size_of_batch, class_mode=\"categorical\"\n",
    "    )\n",
    "\n",
    "    test_generator = test_datagen.flow_from_directory(\n",
    "        test_dir, target_size=(128, 128), batch_size=size_of_batch, class_mode=\"categorical\"\n",
    "    )\n",
    "    return(train_generator,test_generator, num_of_epochs, size_of_batch)"
   ]
  },
  {
   "cell_type": "code",
   "execution_count": null,
   "id": "9c070438-41b9-4265-aa62-eee93f3e45c0",
   "metadata": {},
   "outputs": [],
   "source": [
    "traintest_generators = generate_epochs_batchs_data()\n",
    "train_generator = traintest_generators[0]\n",
    "test_generator = traintest_generators[1]\n",
    "num_of_epochs = traintest_generators[2]\n",
    "size_of_batch = traintest_generators[3]"
   ]
  },
  {
   "cell_type": "markdown",
   "id": "276a6837-fb8e-4d53-b8d7-22ff6910c607",
   "metadata": {},
   "source": [
    "<h3>Funkcija za plotanje rezultata </h3>"
   ]
  },
  {
   "cell_type": "code",
   "execution_count": null,
   "id": "35202b12-c9fa-4dae-a49e-202089a8797c",
   "metadata": {},
   "outputs": [],
   "source": [
    "def plots_and_evaluation(history):\n",
    "    \"\"\" funkcija za plotanje točnosti i gubitka  \"\"\"\n",
    "    # Plot trening i valuacija - točnost\n",
    "    plt.figure(figsize=(12, 4))\n",
    "    plt.subplot(1, 2, 1)\n",
    "    plt.plot(history.history[\"accuracy\"])\n",
    "    plt.plot(history.history[\"val_accuracy\"])\n",
    "    plt.title(\"Model accuracy\")\n",
    "    plt.ylabel(\"Accuracy\")\n",
    "    plt.xlabel(\"Epoch\")\n",
    "    plt.legend([\"Train\", \"Validation\"], loc=\"upper left\")\n",
    "\n",
    "    # Plot trening i validacija - gubitak\n",
    "    plt.subplot(1, 2, 2)\n",
    "    plt.plot(history.history[\"loss\"])\n",
    "    plt.plot(history.history[\"val_loss\"])\n",
    "    plt.title(\"Model loss\")\n",
    "    plt.ylabel(\"Loss\")\n",
    "    plt.xlabel(\"Epoch\")\n",
    "    plt.legend([\"Train\", \"Validation\"], loc=\"upper left\")\n",
    "    plt.show()\n"
   ]
  },
  {
   "cell_type": "markdown",
   "id": "fbe3d6d1-22c3-4e68-962e-ecc2011cdb52",
   "metadata": {},
   "source": [
    "<p>Prikaz random primjera slika:</p>"
   ]
  },
  {
   "cell_type": "code",
   "execution_count": null,
   "id": "7d12bccd-13d6-41ab-8adf-9b131ffec1aa",
   "metadata": {},
   "outputs": [],
   "source": [
    "# Primjeri slika\n",
    "def display_sample_images(generator):\n",
    "    x, y = next(generator)\n",
    "    plt.figure(figsize=(10, 10))\n",
    "    for i in range(9):\n",
    "        plt.subplot(3, 3, i + 1)\n",
    "        plt.imshow(x[i])\n",
    "        \n",
    "        if (np.argmax(y[i])==0):\n",
    "            plt.title(\"mala\")\n",
    "        if (np.argmax(y[i])==1):\n",
    "            plt.title(\"srednja\")\n",
    "        if (np.argmax(y[i])==2):\n",
    "            plt.title(\"velika\")\n",
    "        plt.axis(\"off\")\n",
    "    plt.show()\n",
    "\n",
    "\n",
    "display_sample_images(train_generator)"
   ]
  },
  {
   "cell_type": "markdown",
   "id": "d9e61342-77a6-4112-9598-b760db409985",
   "metadata": {},
   "source": [
    "<h2> Model G.1</h2>\n",
    "<p>dodana L2 regularizacija </p>\n",
    "<p> batch 128, epochs 100, parametri 3 000 000</p>\n",
    "<p>najbolji model iz Echo</p>"
   ]
  },
  {
   "cell_type": "code",
   "execution_count": null,
   "id": "9d5a61fb-ae14-4972-9cfd-d94220108cf5",
   "metadata": {},
   "outputs": [],
   "source": [
    "# CNN model\n",
    "model = Sequential(\n",
    "    [\n",
    "        Conv2D(8, (3, 3), activation=\"relu\", input_shape=(128, 128, 3)),\n",
    "        MaxPooling2D((2, 2)),\n",
    "        Dropout(0.5),\n",
    "        Conv2D(16, (3, 3), activation=\"relu\", kernel_regularizer=l2(0.001)),\n",
    "        MaxPooling2D((2, 2)),\n",
    "        Dropout(0.5),\n",
    "        Conv2D(32, (3, 3), activation=\"relu\"),\n",
    "        Dropout(0.5),\n",
    "        MaxPooling2D((2, 2)),\n",
    "        Dropout(0.5),\n",
    "        Flatten(),\n",
    "        Dense(512, activation=\"relu\"),\n",
    "        Dense(128, activation=\"relu\"),\n",
    "        Dense(3, activation=\"softmax\"),\n",
    "    ]\n",
    ")\n",
    "model.summary()"
   ]
  },
  {
   "cell_type": "code",
   "execution_count": null,
   "id": "dc2ff849-bf9d-49cf-aab5-11cded45644b",
   "metadata": {},
   "outputs": [],
   "source": []
  },
  {
   "cell_type": "code",
   "execution_count": null,
   "id": "45bae309-b509-4dd9-b276-ddd95b4b0342",
   "metadata": {},
   "outputs": [],
   "source": []
  }
 ],
 "metadata": {
  "kernelspec": {
   "display_name": "Python 3 (ipykernel)",
   "language": "python",
   "name": "python3"
  },
  "language_info": {
   "codemirror_mode": {
    "name": "ipython",
    "version": 3
   },
   "file_extension": ".py",
   "mimetype": "text/x-python",
   "name": "python",
   "nbconvert_exporter": "python",
   "pygments_lexer": "ipython3",
   "version": "3.11.8"
  }
 },
 "nbformat": 4,
 "nbformat_minor": 5
}
